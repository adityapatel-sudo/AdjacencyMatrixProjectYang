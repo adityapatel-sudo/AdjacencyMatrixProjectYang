{
 "cells": [
  {
   "cell_type": "markdown",
   "metadata": {
    "collapsed": true,
    "pycharm": {
     "name": "#%% md\n"
    }
   },
   "source": [
    "# Adjacency Matrices\n",
    "#### *Varun Chitturi, Aditya Patel*\n",
    "\n",
    "The purpose of this project is to show how powers of matrices may be used to\n",
    "investigate graphs.\n",
    "\n",
    "The most commonly depicted graphs in this module consist of airline routes.\n",
    "\n",
    "## Concepts\n",
    "\n",
    "- **Graph** - A graph is a set of **Vertices** connected by **Edges**\n",
    "\n",
    "![Figure One](Assets/AdjacencyMatrix.png \"Figure one\")\n",
    "\n",
    "- **Adjacency Matrix** - a way of depicting a graph in the form of a matrix. An adjacency matrix depicting a graph with n vertices will be an $ n\\times n $ matrix.\n",
    "The entry $(n,m)$ in the matrix will be $1$ if vertices $ n $ and $ m $ are connected by an edge, and $0$ if not.\n",
    "\n",
    "ex.\n",
    "$\n",
    "\\begin{bmatrix}\n",
    "0 & 0 & 1 & 0\\\\\n",
    "0 & 0 & 1 & 0\\\\\n",
    "1 & 1 & 0 & 1\\\\\n",
    "0 & 0 & 1 & 0\n",
    "\\end{bmatrix}\n",
    "$\n",
    "\n",
    "This matrix has 4 vertices, with edges between 1 & 3, 2 & 3, and 4 & 3.\n",
    "\n",
    "A matrix like this can be used to depict an airline system, with each vertex being an airport and edges being flights between airports"
   ]
  },
  {
   "cell_type": "markdown",
   "source": [
    "## Questions\n",
    "### Question 1\n",
    "The route map for the northern routes of the now defunct Big Sky Airlines for 2008 is given in Figure 3 below. Produce an adjacency matrix for this map.\n",
    "\n",
    "![title](Assets/2008 Flight Route Map.png)\n",
    "<img alt=\"2008 Flight Route Map\" src=\"Assets/2008 Flight Route Map.png\"/>"
   ],
   "metadata": {
    "collapsed": false
   }
  },
  {
   "cell_type": "code",
   "execution_count": 89,
   "metadata": {
    "pycharm": {
     "name": "#%%\n"
    }
   },
   "outputs": [],
   "source": [
    "from AdjacencyMatrix import AdjacencyMatrix"
   ]
  },
  {
   "cell_type": "markdown",
   "metadata": {
    "pycharm": {
     "name": "#%% md\n"
    }
   },
   "source": [
    "### Question 1\n",
    "The route map for the northern routes of the now defunct Big Sky Airlines for 2008 is given in Figure 3 below. Produce an adjacency matrix for this map.\n",
    "\n",
    "![title](Assets/2008 Flight Route Map.png)\n",
    "<img alt=\"2008 Flight Route Map\" src=\"Assets/2008 Flight Route Map.png\"/>"
   ]
  },
  {
   "cell_type": "code",
   "execution_count": 90,
   "metadata": {
    "pycharm": {
     "name": "#%%\n"
    }
   },
   "outputs": [],
   "source": [
    "flightMatrix = AdjacencyMatrix(matrix=[\n",
    "[0,1,0,0,0,0,0,0,0,0,0,0,0,0,0],\n",
    "[1,0,1,0,1,0,0,0,0,0,0,0,0,0,0],\n",
    "[0,1,0,1,0,0,0,0,0,0,0,0,0,0,0],\n",
    "[0,0,1,0,0,0,0,0,0,0,0,0,0,0,0],\n",
    "[0,1,0,0,0,1,0,0,0,0,0,0,0,0,0],\n",
    "[0,0,0,0,1,0,1,0,1,1,1,0,1,1,0],\n",
    "[0,0,0,0,0,1,0,1,0,0,0,0,0,0,0],\n",
    "[0,0,0,0,0,0,1,0,0,0,0,0,0,0,0],\n",
    "[0,0,0,0,0,1,0,0,0,1,0,0,0,0,0],\n",
    "[0,0,0,0,0,1,0,0,1,0,0,0,0,0,0],\n",
    "[0,0,0,0,0,1,0,0,0,0,0,1,0,0,0],\n",
    "[0,0,0,0,0,0,0,0,0,0,1,0,1,0,0],\n",
    "[0,0,0,0,0,1,0,0,0,0,0,1,0,0,0],\n",
    "[0,0,0,0,0,1,0,0,0,0,0,0,0,0,1],\n",
    "[0,0,0,0,0,0,0,0,0,0,0,0,0,1,0],\n",
    "])\n"
   ]
  },
  {
   "cell_type": "markdown",
   "metadata": {
    "pycharm": {
     "name": "#%% md\n"
    }
   },
   "source": [
    "### Question 2\n",
    "For Figure 1, list the three-step sequences between C and F, and confirm that there are indeed 5 of them."
   ]
  },
  {
   "cell_type": "code",
   "execution_count": 91,
   "metadata": {
    "pycharm": {
     "name": "#%%\n"
    }
   },
   "outputs": [
    {
     "name": "stdout",
     "output_type": "stream",
     "text": [
      "\n",
      "    The Three-Step Sequences between C and F are:\n",
      "    C -> B -> E -> F\n",
      "    C -> B -> F -> F\n",
      "    C -> B -> C -> F\n",
      "    C -> F -> E -> F\n",
      "    C -> F -> C -> F\n",
      "    \n",
      "5\n"
     ]
    }
   ],
   "source": [
    "\"\"\"\n",
    "INDEX MAPPING:\n",
    "A = 0\n",
    "B = 1\n",
    "C = 2\n",
    "D = 3\n",
    "E = 4\n",
    "F = 5\n",
    "\"\"\"\n",
    "figureOneMatrix = AdjacencyMatrix(matrix=[\n",
    "    [0, 1, 0, 0, 0, 0],\n",
    "    [1, 0, 1, 0, 1, 0],\n",
    "    [0, 1, 0, 0, 0, 1],\n",
    "    [0, 0, 0, 0, 0, 0],\n",
    "    [0, 1, 0, 0, 0, 1],\n",
    "    [0, 0, 1, 0, 1, 1]\n",
    "])\n",
    "\n",
    "print(\n",
    "    \"\"\"\n",
    "    The Three-Step Sequences between C and F are:\n",
    "    C -> B -> E -> F\n",
    "    C -> B -> F -> F\n",
    "    C -> B -> C -> F\n",
    "    C -> F -> E -> F\n",
    "    C -> F -> C -> F\n",
    "    \"\"\"\n",
    ")\n",
    "\n",
    "print(figureOneMatrix.numPaths(2, 5, 3))"
   ]
  },
  {
   "cell_type": "markdown",
   "metadata": {
    "pycharm": {
     "name": "#%% md\n"
    }
   },
   "source": [
    "### Question 3\n",
    "In Figure 1, show that the shortest path between A and F has 3 steps."
   ]
  },
  {
   "cell_type": "code",
   "execution_count": 92,
   "metadata": {
    "pycharm": {
     "name": "#%%\n"
    }
   },
   "outputs": [
    {
     "name": "stdout",
     "output_type": "stream",
     "text": [
      "Shortest distance is 3\n",
      "The first matrix with a non zero entry at index 0 and 5 (which map to A and F) is: \n",
      "[[0 3 0 0 0 2]\n",
      " [3 0 5 0 5 2]\n",
      " [0 5 1 0 1 5]\n",
      " [0 0 0 0 0 0]\n",
      " [0 5 1 0 1 5]\n",
      " [2 2 5 0 5 5]]\n"
     ]
    }
   ],
   "source": [
    "print(f\"Shortest distance is {figureOneMatrix.shortestDistance(0, 5)}\")\n",
    "print(f\"The first matrix with a non zero entry at index 0 and 5 (which map to A and F) is: \\n{figureOneMatrix.getStepMatrix(3)}\")"
   ]
  },
  {
   "cell_type": "markdown",
   "metadata": {},
   "source": [
    "### Question 4\n",
    "Which Cape Air cities (Fig. 2) may be reached by a two flight sequence from New Bedford?\n",
    "Which may be reached by a three flight sequence?\n",
    "\n"
   ]
  },
  {
   "cell_type": "code",
   "execution_count": 93,
   "metadata": {
    "pycharm": {
     "name": "#%%\n"
    }
   },
   "outputs": [
    {
     "name": "stdout",
     "output_type": "stream",
     "text": [
      "Possible in 2:\n",
      "0: Boston\n",
      "2: Providence\n",
      "3: Hyannis\n",
      "4: New Bedford\n",
      "5: Martha's Vineyard\n",
      "6: Nantucket\n",
      "Possible in 3:\n",
      "0: Boston\n",
      "1: Provincetown\n",
      "2: Providence\n",
      "3: Hyannis\n",
      "4: New Bedford\n",
      "5: Martha's Vineyard\n",
      "6: Nantucket\n"
     ]
    }
   ],
   "source": [
    "\"\"\"\n",
    "INDEX MAPPING:\n",
    "Boston = 0\n",
    "Provincetown = 1\n",
    "Providence = 2\n",
    "Hyannis = 3\n",
    "New Bedford = 4\n",
    "Martha's Vineyard = 5\n",
    "Nantucket = 6\n",
    "\"\"\"\n",
    "index = [\"Boston\",\"Provincetown\",\"Providence\",\"Hyannis\",\"New Bedford\",\"Martha's Vineyard\",\"Nantucket\"]\n",
    "figureTwoMatrix = AdjacencyMatrix(matrix=[\n",
    "    [0, 1, 0, 1, 0, 1, 1],\n",
    "    [1, 0, 0, 0, 0, 0, 0],\n",
    "    [0, 0, 0, 0, 0, 1, 1],\n",
    "    [1, 0, 0, 0, 0, 1, 1],\n",
    "    [0, 0, 0, 0, 0, 1, 1],\n",
    "    [1, 0, 1, 1, 1, 0, 1],\n",
    "    [1, 0, 1, 1, 1, 1, 0]\n",
    "])\n",
    "\n",
    "print(f\"Possible in 2:\")\n",
    "for city in range(0,7):\n",
    "    if figureTwoMatrix.numPaths(4, city, 2):\n",
    "        print(f\"{city}: {index[city]}\")\n",
    "\n",
    "print(f\"Possible in 3:\")\n",
    "for city in range(0,7):\n",
    "    if figureTwoMatrix.numPaths(4, city, 3):\n",
    "        print(f\"{city}: {index[city]}\")"
   ]
  },
  {
   "cell_type": "markdown",
   "metadata": {},
   "source": [
    "### Question 5\n",
    "Which trips in the Cape Air network (Fig. 2) take the greatest number of flights?"
   ]
  },
  {
   "cell_type": "code",
   "execution_count": 94,
   "metadata": {
    "pycharm": {
     "name": "#%%\n"
    }
   },
   "outputs": [
    {
     "name": "stdout",
     "output_type": "stream",
     "text": [
      "The following trips have the max length of 3.\n",
      "Provincetown to Providence\n",
      "Provincetown to New Bedford\n",
      "Providence to Provincetown\n",
      "New Bedford to Provincetown\n"
     ]
    }
   ],
   "source": [
    "tripLengths = []\n",
    "for row in range(0,7):\n",
    "    rowTrips = []\n",
    "    for column in range(0,7):\n",
    "        rowTrips.append(figureTwoMatrix.shortestDistance(row,column))\n",
    "    tripLengths.append(rowTrips)\n",
    "\n",
    "longestTrip = 0\n",
    "for row in tripLengths:\n",
    "    for column in row:\n",
    "        if column > longestTrip:\n",
    "            longestTrip = column\n",
    "\n",
    "print(f\"The following trips have the max length of {longestTrip}.\")\n",
    "for row in range(0,7):\n",
    "    for column in range(0,7):\n",
    "        if tripLengths[row][column] == longestTrip:\n",
    "            print(f\"{index[row]} to {index[column]}\")"
   ]
  },
  {
   "cell_type": "markdown",
   "metadata": {},
   "source": [
    "### Question 6\n",
    "Show that the graph in Figure 1 is not connected by observing Sn."
   ]
  },
  {
   "cell_type": "code",
   "execution_count": 95,
   "metadata": {
    "pycharm": {
     "name": "#%%\n"
    }
   },
   "outputs": [
    {
     "name": "stdout",
     "output_type": "stream",
     "text": [
      "[[ 17  21  33   0  33  32]\n",
      " [ 21  83  53   0  53  98]\n",
      " [ 33  53  74   0  74  86]\n",
      " [  0   0   0   0   0   0]\n",
      " [ 33  53  74   0  74  86]\n",
      " [ 32  98  86   0  86 136]]\n"
     ]
    }
   ],
   "source": [
    "final = figureOneMatrix.getSN()\n",
    "print(final)"
   ]
  },
  {
   "cell_type": "markdown",
   "metadata": {},
   "source": [
    "Because there exist 0 inside the Sn Matrix, the graph is not connected."
   ]
  },
  {
   "cell_type": "markdown",
   "metadata": {},
   "source": [
    "### Question 7\n",
    "Figure 4 shows the May 2001 route map for Spirit Airlines. An updated map may be found at www.spirit.com/RouteMaps.aspx. The adjacency matrix for the map in Figure 4 is the matrix D. The vertices correspond to: Atlantic City, Chicago (O'Hare), Detroit, Fort Lauderdale, Fort Myers, Los Angeles, Melbourne, Myrtle Beach, Newark, New York (LaGuardia), Oakl and, Orlando, Tampa, and Washington (Reagan National). What is the shortest num ber of flights it w ould take to go from Tampa to Newark? How many different ways can you make that trip?"
   ]
  },
  {
   "cell_type": "code",
   "execution_count": 96,
   "metadata": {
    "pycharm": {
     "name": "#%%\n"
    }
   },
   "outputs": [
    {
     "name": "stdout",
     "output_type": "stream",
     "text": [
      "Shortest number of flights from Tampa to Newark is 3\n",
      "Total number of paths from Tampa to Newark is 180310442\n",
      "The total number of paths with 3 paths is 6\n"
     ]
    }
   ],
   "source": [
    "matrix= [\n",
    "    [0, 1, 0, 1, 1, 0, 0, 1, 0, 0, 0, 1, 1, 0,],\n",
    "    [1, 0, 0, 1, 1, 1, 0, 1, 0, 0, 0, 1, 0, 0,],\n",
    "    [0, 0, 0, 1, 1, 1, 0, 1, 0, 1, 1, 1, 1, 0,],\n",
    "    [1, 1, 1, 0, 0, 0, 1, 0, 1, 1, 0, 0, 0, 1,],\n",
    "    [1, 1, 1, 0, 0, 0, 0, 0, 0, 1, 0, 0, 0, 0,],\n",
    "    [0, 1, 1, 0, 0, 0, 0, 0, 0, 0, 0, 0, 0, 0,],\n",
    "    [0, 0, 0, 1, 0, 0, 0, 0, 0, 1, 0, 0, 0, 1,],\n",
    "    [1, 1, 1, 0, 0, 0, 0, 0, 1, 1, 0, 0, 0, 0,],\n",
    "    [0, 0, 0, 1, 0, 0, 0, 1, 0, 0, 0, 1, 0, 0,],\n",
    "    [0, 0, 1, 1, 1, 0, 1, 1, 0, 0, 0, 0, 0, 0,],\n",
    "    [0, 0, 1, 0, 0, 0, 0, 0, 0, 0, 0, 0, 0, 0,],\n",
    "    [1, 1, 1, 0, 0, 0, 0, 0, 1, 0, 0, 0, 0, 0,],\n",
    "    [1, 0, 1, 0, 0, 0, 0, 0, 0, 0, 0, 0, 0, 0,],\n",
    "    [0, 0, 0, 1, 0, 0, 1, 0, 0, 0, 0, 0, 0, 0,]\n",
    "]\n",
    "figureFourMatrix = AdjacencyMatrix(matrix=matrix)\n",
    "vertices = [\"Atlantic City\",\"Chicago\",\"Detroit\",\"Fort Lauderdale\",\"Fort Myers\",\"Los Angeles\",\"Melbourne\",\"Myrtle Beach\",\"Newark\",\"New York (LaGuardia)\",\"Oakland\",\"Orlando\",\"Tampa\",\"Washington\"]\n",
    "print(f\"Shortest number of flights from Tampa to Newark is {figureFourMatrix.shortestDistance(12,8)}\")\n",
    "print(f\"Total number of paths from Tampa to Newark is {figureFourMatrix.getSN()[12][8]}\")\n",
    "print(f\"The total number of paths with {figureFourMatrix.shortestDistance(12,8)} paths is {figureFourMatrix.numPaths(12,8,3)}\")"
   ]
  },
  {
   "cell_type": "markdown",
   "metadata": {},
   "source": [
    "### Question 8\n",
    "What is the largest number of flights you would need to get from one Spirit city to\n",
    "another? Which trips take the largest number of flights? How many ways can you\n",
    "make those trips?\n",
    "\n",
    "**To solve this, we can create an array of shortest flights and find the largest number of trips from that array.**\n"
   ]
  },
  {
   "cell_type": "code",
   "execution_count": 97,
   "metadata": {
    "pycharm": {
     "name": "#%%\n"
    }
   },
   "outputs": [
    {
     "name": "stdout",
     "output_type": "stream",
     "text": [
      "[[0, 1, 2, 1, 1, 2, 2, 1, 2, 2, 3, 1, 1, 2], [1, 0, 2, 1, 1, 1, 2, 1, 2, 2, 3, 1, 2, 2], [2, 2, 0, 1, 1, 1, 2, 1, 2, 1, 1, 1, 1, 2], [1, 1, 1, 0, 2, 2, 1, 2, 1, 1, 2, 2, 2, 1], [1, 1, 1, 2, 0, 2, 2, 2, 3, 1, 2, 2, 2, 3], [2, 1, 1, 2, 2, 0, 3, 2, 3, 2, 2, 2, 2, 3], [2, 2, 2, 1, 2, 3, 0, 2, 2, 1, 3, 3, 3, 1], [1, 1, 1, 2, 2, 2, 2, 0, 1, 1, 2, 2, 2, 3], [2, 2, 2, 1, 3, 3, 2, 1, 0, 2, 3, 1, 3, 2], [2, 2, 1, 1, 1, 2, 1, 1, 2, 0, 2, 2, 2, 2], [3, 3, 1, 2, 2, 2, 3, 2, 3, 2, 0, 2, 2, 3], [1, 1, 1, 2, 2, 2, 3, 2, 1, 2, 2, 0, 2, 3], [1, 2, 1, 2, 2, 2, 3, 2, 3, 2, 2, 2, 0, 3], [2, 2, 2, 1, 3, 3, 1, 3, 2, 2, 3, 3, 3, 0]]\n",
      "The longest shortest trip possible between two cities is 3 and this was possible from 32 different trips.\n"
     ]
    }
   ],
   "source": [
    "shortestFlightsMatrix= []\n",
    "for row in range(0,figureFourMatrix.n):\n",
    "    tempRow = []\n",
    "    for column in range(0,figureFourMatrix.n):\n",
    "        tempRow.append(figureFourMatrix.shortestDistance(row,column))\n",
    "    shortestFlightsMatrix.append(tempRow)\n",
    "longestTrip = 0\n",
    "countLongest = 0\n",
    "for row in range(0,figureFourMatrix.n):\n",
    "    tempRow = []\n",
    "    for column in range(0,figureFourMatrix.n):\n",
    "        if longestTrip < shortestFlightsMatrix[row][column]:\n",
    "            longestTrip = shortestFlightsMatrix[row][column]\n",
    "            countLongest = 1\n",
    "        elif longestTrip == shortestFlightsMatrix[row][column]:\n",
    "            countLongest += 1\n",
    "print(f\"The longest shortest trip possible between two cities is {longestTrip} and this was possible from {countLongest} different trips.\")"
   ]
  }
 ],
 "metadata": {
  "kernelspec": {
   "display_name": "Python 3 (ipykernel)",
   "language": "python",
   "name": "python3"
  },
  "language_info": {
   "codemirror_mode": {
    "name": "ipython",
    "version": 3
   },
   "file_extension": ".py",
   "mimetype": "text/x-python",
   "name": "python",
   "nbconvert_exporter": "python",
   "pygments_lexer": "ipython3",
   "version": "3.9.6"
  }
 },
 "nbformat": 4,
 "nbformat_minor": 1
}