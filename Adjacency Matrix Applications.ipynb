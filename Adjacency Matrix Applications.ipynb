{
 "cells": [
  {
   "cell_type": "markdown",
   "metadata": {
    "collapsed": true,
    "pycharm": {
     "name": "#%% md\n"
    }
   },
   "source": [
    "# Adjacency Matrices\n",
    "#### *Varun Chitturi, Aditya Patel*\n",
    "\n",
    "#### Project Split:\n",
    "Varun Chitturi - AdjacencyMatrix Model creation, problems 1-4\n",
    "\n",
    "Aditya Patel - helper functions, problems 5-8\n",
    "\n",
    "The purpose of this project is to show how powers of matrices may be used to\n",
    "investigate graphs. The most commonly depicted graphs in this module consist of airline routes.\n",
    "\n",
    "Concepts\n",
    "------\n",
    "\n",
    "**Graph** - A graph is a set of **Vertices** connected by **Edges**\n",
    "\n",
    "**Adjacency Matrix** - a way of depicting a graph in the form of a matrix. An adjacency matrix depicting a graph with n vertices will be an $ n\\times n $ matrix.\n",
    "The entry $(n,m)$ in the matrix will be $1$ if vertices $ n $ and $ m $ are connected by an edge, and $0$ if not.\n",
    "\n",
    "![Figure 1](Assets/Figure1.png)\n",
    "\n",
    "Figure 1.\n",
    "$\n",
    "\\begin{bmatrix}\n",
    "0 & 1 & 0 & 0 & 0 & 0\\\\\n",
    "1 & 0 & 1 & 0 & 1 & 0\\\\\n",
    "0 & 1 & 0 & 0 & 0 & 1\\\\\n",
    "0 & 0 & 0 & 0 & 0 & 0\\\\\n",
    "0 & 1 & 0 & 0 & 0 & 1\\\\\n",
    "0 & 0 & 1 & 0 & 1 & 1\n",
    "\\end{bmatrix}\n",
    "$\n",
    "\n",
    "This matrix has 6 vertices, various edges wherever $(n,m)$ is equal to $1$.\n",
    "\n",
    "A matrix like this can be used to depict an airline system, with each vertex being an airport and edges being flights between airports.\n",
    "\n",
    "### Uses of Adjacency Matrices\n",
    "\n",
    "Adjacency matrices can help us answer questions such as, \"How many airports can I go to in two flights?\"\n",
    "\n",
    "In order to connect two airports in two flights, there must be a common layover. We can calculate this using the matrix by seeing which vertices have common edges.\n",
    "\n",
    "Let's use Figure 1 as an example.\n",
    "\n",
    "Let $(m,n) = M_{mn}$\n",
    "\n",
    "$$M_{21}M_{16}+M_{22}M_{26}+M_{23}M_{36}+M_{24}M_{46}+M_{25}M_{56}+M_{26}M_{66}$$ =\n",
    "$$ 1 \\times 0 + 0 \\times 0 + 1 \\times 1 + 0 \\times 0 + 1 \\times 1 + 0 \\times 1 = 2$$\n",
    "\n",
    "This allows us to see that there are 2 paths from vertex m to vertex n when we have an intermediate vertex.\n",
    "\n",
    "From the above equation, it's clear that the number of two-step sequences between vertex $i$ and vertex $j$ in an graph with adjacency matrix M is the $(i,j)$ entry in $M^2$\n",
    "\n",
    "Similarly, the following is given from the project:\n",
    "The number of $k$-step sequences between vertex $i$ and vertex $j$ in a graph\n",
    "with adjacency matrix $M$ is the $(i,j)$ entry in $M^k$.\n",
    "\n",
    "if M is the adjacency matrix for Figure 1,\n",
    "\n",
    "$M^2 =\n",
    "\\begin{bmatrix}\n",
    "1 & 0 & 1 & 0 & 1 & 0\\\\\n",
    "0 & 3 & 0 & 0 & 0 & 2\\\\\n",
    "1 & 0 & 2 & 0 & 2 & 1\\\\\n",
    "0 & 0 & 0 & 0 & 0 & 0\\\\\n",
    "1 & 0 & 2 & 0 & 2 & 1\\\\\n",
    "0 & 2 & 1 & 0 & 1 & 3\n",
    "\\end{bmatrix}\n",
    "$\n",
    "\n",
    "This allows us to easily see the number of 2-step flights from any vertex to any other. Calculating $M^3$ and so on will allow us to see the 3-step and longer paths from vertex to vertex.\n",
    "\n",
    "If we want to know the least number of flights to go from one airport to another, we can simply calculate $M^2,M^3,M4...$ until the $(m,n)$ has one or more paths.\n",
    "\n",
    "### Graph Connected\n",
    "Another commonly asked question is whether it is possible to go from any vertex to any other vertex. We can solve this by calculating $S_k = M^1+M^2+M^3...M^n$, where n is the total number of vertices. This matrix will show the total number of paths from any vertex to any other vertex. There are likely exponentially more paths from one matrix to another in a matrix of n size.\n"
   ]
  },
  {
   "cell_type": "markdown",
   "metadata": {},
   "source": [
    "Questions\n",
    "------\n",
    "### Question 1\n",
    "The route map for the northern routes of the now defunct Big Sky Airlines for 2008 is given in Figure 3 below. Produce an adjacency matrix for this map.\n",
    "\n",
    "![Figure 3](Assets/Figure3.png)"
   ]
  },
  {
   "cell_type": "code",
   "execution_count": 21,
   "metadata": {
    "pycharm": {
     "name": "#%%\n"
    }
   },
   "outputs": [],
   "source": [
    "from AdjacencyMatrix import AdjacencyMatrix\n",
    "import numpy as np"
   ]
  },
  {
   "cell_type": "markdown",
   "metadata": {
    "pycharm": {
     "name": "#%% md\n"
    }
   },
   "source": [
    "### Question 2\n",
    "The route map for the northern routes of the now defunct Big Sky Airlines for 2008 is given in Figure 3 below. Produce an adjacency matrix for this map."
   ]
  },
  {
   "cell_type": "code",
   "execution_count": 22,
   "metadata": {
    "pycharm": {
     "name": "#%%\n"
    }
   },
   "outputs": [],
   "source": [
    "flightMatrix = AdjacencyMatrix(matrix=[\n",
    "[0,1,0,0,0,0,0,0,0,0,0,0,0,0,0],\n",
    "[1,0,1,0,1,0,0,0,0,0,0,0,0,0,0],\n",
    "[0,1,0,1,0,0,0,0,0,0,0,0,0,0,0],\n",
    "[0,0,1,0,0,0,0,0,0,0,0,0,0,0,0],\n",
    "[0,1,0,0,0,1,0,0,0,0,0,0,0,0,0],\n",
    "[0,0,0,0,1,0,1,0,1,1,1,0,1,1,0],\n",
    "[0,0,0,0,0,1,0,1,0,0,0,0,0,0,0],\n",
    "[0,0,0,0,0,0,1,0,0,0,0,0,0,0,0],\n",
    "[0,0,0,0,0,1,0,0,0,1,0,0,0,0,0],\n",
    "[0,0,0,0,0,1,0,0,1,0,0,0,0,0,0],\n",
    "[0,0,0,0,0,1,0,0,0,0,0,1,0,0,0],\n",
    "[0,0,0,0,0,0,0,0,0,0,1,0,1,0,0],\n",
    "[0,0,0,0,0,1,0,0,0,0,0,1,0,0,0],\n",
    "[0,0,0,0,0,1,0,0,0,0,0,0,0,0,1],\n",
    "[0,0,0,0,0,0,0,0,0,0,0,0,0,1,0],\n",
    "])\n"
   ]
  },
  {
   "cell_type": "markdown",
   "metadata": {
    "pycharm": {
     "name": "#%% md\n"
    }
   },
   "source": [
    "### Question 3\n",
    "For Figure 1, list the three-step sequences between C and F, and confirm that there are indeed 5 of them."
   ]
  },
  {
   "cell_type": "code",
   "execution_count": 23,
   "metadata": {
    "pycharm": {
     "name": "#%%\n"
    }
   },
   "outputs": [
    {
     "name": "stdout",
     "output_type": "stream",
     "text": [
      "\n",
      "    The Three-Step Sequences between C and F are:\n",
      "    C -> B -> E -> F\n",
      "    C -> B -> F -> F\n",
      "    C -> B -> C -> F\n",
      "    C -> F -> E -> F\n",
      "    C -> F -> C -> F\n",
      "    \n",
      "5\n"
     ]
    }
   ],
   "source": [
    "\"\"\"\n",
    "INDEX MAPPING:\n",
    "A = 0\n",
    "B = 1\n",
    "C = 2\n",
    "D = 3\n",
    "E = 4\n",
    "F = 5\n",
    "\"\"\"\n",
    "figureOneMatrix = AdjacencyMatrix(matrix=[\n",
    "    [0, 1, 0, 0, 0, 0],\n",
    "    [1, 0, 1, 0, 1, 0],\n",
    "    [0, 1, 0, 0, 0, 1],\n",
    "    [0, 0, 0, 0, 0, 0],\n",
    "    [0, 1, 0, 0, 0, 1],\n",
    "    [0, 0, 1, 0, 1, 1]\n",
    "])\n",
    "\n",
    "print(\n",
    "    \"\"\"\n",
    "    The Three-Step Sequences between C and F are:\n",
    "    C -> B -> E -> F\n",
    "    C -> B -> F -> F\n",
    "    C -> B -> C -> F\n",
    "    C -> F -> E -> F\n",
    "    C -> F -> C -> F\n",
    "    \"\"\"\n",
    ")\n",
    "\n",
    "print(figureOneMatrix.numPaths(2, 5, 3))"
   ]
  },
  {
   "cell_type": "markdown",
   "metadata": {
    "pycharm": {
     "name": "#%% md\n"
    }
   },
   "source": [
    "### Question 4\n",
    "In Figure 1, show that the shortest path between A and F has 3 steps."
   ]
  },
  {
   "cell_type": "code",
   "execution_count": 24,
   "metadata": {
    "pycharm": {
     "name": "#%%\n"
    }
   },
   "outputs": [
    {
     "name": "stdout",
     "output_type": "stream",
     "text": [
      "Shortest distance is 3\n",
      "The first matrix with a non zero entry at index 0 and 5 (which map to A and F) is: \n",
      "[[0 3 0 0 0 2]\n",
      " [3 0 5 0 5 2]\n",
      " [0 5 1 0 1 5]\n",
      " [0 0 0 0 0 0]\n",
      " [0 5 1 0 1 5]\n",
      " [2 2 5 0 5 5]]\n"
     ]
    }
   ],
   "source": [
    "print(f\"Shortest distance is {figureOneMatrix.shortestDistance(0, 5)}\")\n",
    "print(f\"The first matrix with a non zero entry at index 0 and 5 (which map to A and F) is: \\n{figureOneMatrix.getStepMatrix(3)}\")"
   ]
  },
  {
   "cell_type": "markdown",
   "metadata": {},
   "source": [
    "### Question 4\n",
    "Which Cape Air cities (Fig. 2) may be reached by a two flight sequence from New Bedford?\n",
    "Which may be reached by a three flight sequence?\n",
    "\n"
   ]
  },
  {
   "cell_type": "code",
   "execution_count": 25,
   "metadata": {
    "pycharm": {
     "name": "#%%\n"
    }
   },
   "outputs": [
    {
     "name": "stdout",
     "output_type": "stream",
     "text": [
      "Possible in 2:\n",
      "0: Boston\n",
      "2: Providence\n",
      "3: Hyannis\n",
      "4: New Bedford\n",
      "5: Martha's Vineyard\n",
      "6: Nantucket\n",
      "Possible in 3:\n",
      "0: Boston\n",
      "1: Provincetown\n",
      "2: Providence\n",
      "3: Hyannis\n",
      "4: New Bedford\n",
      "5: Martha's Vineyard\n",
      "6: Nantucket\n"
     ]
    }
   ],
   "source": [
    "\"\"\"\n",
    "INDEX MAPPING:\n",
    "Boston = 0\n",
    "Provincetown = 1\n",
    "Providence = 2\n",
    "Hyannis = 3\n",
    "New Bedford = 4\n",
    "Martha's Vineyard = 5\n",
    "Nantucket = 6\n",
    "\"\"\"\n",
    "index = [\"Boston\",\"Provincetown\",\"Providence\",\"Hyannis\",\"New Bedford\",\"Martha's Vineyard\",\"Nantucket\"]\n",
    "figureTwoMatrix = AdjacencyMatrix(matrix=[\n",
    "    [0, 1, 0, 1, 0, 1, 1],\n",
    "    [1, 0, 0, 0, 0, 0, 0],\n",
    "    [0, 0, 0, 0, 0, 1, 1],\n",
    "    [1, 0, 0, 0, 0, 1, 1],\n",
    "    [0, 0, 0, 0, 0, 1, 1],\n",
    "    [1, 0, 1, 1, 1, 0, 1],\n",
    "    [1, 0, 1, 1, 1, 1, 0]\n",
    "])\n",
    "\n",
    "print(f\"Possible in 2:\")\n",
    "for city in range(0,7):\n",
    "    if figureTwoMatrix.numPaths(4, city, 2):\n",
    "        print(f\"{city}: {index[city]}\")\n",
    "\n",
    "print(f\"Possible in 3:\")\n",
    "for city in range(0,7):\n",
    "    if figureTwoMatrix.numPaths(4, city, 3):\n",
    "        print(f\"{city}: {index[city]}\")"
   ]
  },
  {
   "cell_type": "markdown",
   "metadata": {},
   "source": [
    "### Question 5\n",
    "Which trips in the Cape Air network (Fig. 2) take the greatest number of flights?"
   ]
  },
  {
   "cell_type": "code",
   "execution_count": 26,
   "metadata": {
    "pycharm": {
     "name": "#%%\n"
    }
   },
   "outputs": [
    {
     "name": "stdout",
     "output_type": "stream",
     "text": [
      "The following trips have the max length of 3.\n",
      "Provincetown to Providence\n",
      "Provincetown to New Bedford\n",
      "Providence to Provincetown\n",
      "New Bedford to Provincetown\n"
     ]
    }
   ],
   "source": [
    "tripLengths = []\n",
    "for row in range(0,7):\n",
    "    rowTrips = []\n",
    "    for column in range(0,7):\n",
    "        rowTrips.append(figureTwoMatrix.shortestDistance(row,column))\n",
    "    tripLengths.append(rowTrips)\n",
    "\n",
    "longestTrip = 0\n",
    "for row in tripLengths:\n",
    "    for column in row:\n",
    "        if column > longestTrip:\n",
    "            longestTrip = column\n",
    "\n",
    "print(f\"The following trips have the max length of {longestTrip}.\")\n",
    "for row in range(0,7):\n",
    "    for column in range(0,7):\n",
    "        if tripLengths[row][column] == longestTrip:\n",
    "            print(f\"{index[row]} to {index[column]}\")"
   ]
  },
  {
   "cell_type": "markdown",
   "metadata": {},
   "source": [
    "### Question 6\n",
    "Show that the graph in Figure 1 is not connected by observing Sn."
   ]
  },
  {
   "cell_type": "code",
   "execution_count": 27,
   "metadata": {
    "pycharm": {
     "name": "#%%\n"
    }
   },
   "outputs": [
    {
     "name": "stdout",
     "output_type": "stream",
     "text": [
      "[[ 17  21  33   0  33  32]\n",
      " [ 21  83  53   0  53  98]\n",
      " [ 33  53  74   0  74  86]\n",
      " [  0   0   0   0   0   0]\n",
      " [ 33  53  74   0  74  86]\n",
      " [ 32  98  86   0  86 136]]\n"
     ]
    }
   ],
   "source": [
    "final = figureOneMatrix.getSN()\n",
    "print(final)"
   ]
  },
  {
   "cell_type": "markdown",
   "metadata": {},
   "source": [
    "Because there exist 0 inside the Sn Matrix, the graph is not connected."
   ]
  },
  {
   "cell_type": "markdown",
   "metadata": {},
   "source": [
    "### Question 7\n",
    "Figure 4 shows the May 2001 route map for Spirit Airlines. An updated map may be found at www.spirit.com/RouteMaps.aspx. The adjacency matrix for the map in Figure 4 is the matrix D. The vertices correspond to: Atlantic City, Chicago (O'Hare), Detroit, Fort Lauderdale, Fort Myers, Los Angeles, Melbourne, Myrtle Beach, Newark, New York (LaGuardia), Oakl and, Orlando, Tampa, and Washington (Reagan National). What is the shortest num ber of flights it w ould take to go from Tampa to Newark? How many different ways can you make that trip?\n",
    "\n",
    "\n",
    "![Figure 4](Assets/Figure4.png)"
   ]
  },
  {
   "cell_type": "code",
   "execution_count": 28,
   "metadata": {
    "pycharm": {
     "name": "#%%\n"
    }
   },
   "outputs": [
    {
     "name": "stdout",
     "output_type": "stream",
     "text": [
      "Shortest number of flights from Tampa to Newark is 3\n",
      "Total number of paths from Tampa to Newark is 180310442\n",
      "The total number of paths with 3 paths is 6\n"
     ]
    }
   ],
   "source": [
    "matrix= [\n",
    "    [0, 1, 0, 1, 1, 0, 0, 1, 0, 0, 0, 1, 1, 0,],\n",
    "    [1, 0, 0, 1, 1, 1, 0, 1, 0, 0, 0, 1, 0, 0,],\n",
    "    [0, 0, 0, 1, 1, 1, 0, 1, 0, 1, 1, 1, 1, 0,],\n",
    "    [1, 1, 1, 0, 0, 0, 1, 0, 1, 1, 0, 0, 0, 1,],\n",
    "    [1, 1, 1, 0, 0, 0, 0, 0, 0, 1, 0, 0, 0, 0,],\n",
    "    [0, 1, 1, 0, 0, 0, 0, 0, 0, 0, 0, 0, 0, 0,],\n",
    "    [0, 0, 0, 1, 0, 0, 0, 0, 0, 1, 0, 0, 0, 1,],\n",
    "    [1, 1, 1, 0, 0, 0, 0, 0, 1, 1, 0, 0, 0, 0,],\n",
    "    [0, 0, 0, 1, 0, 0, 0, 1, 0, 0, 0, 1, 0, 0,],\n",
    "    [0, 0, 1, 1, 1, 0, 1, 1, 0, 0, 0, 0, 0, 0,],\n",
    "    [0, 0, 1, 0, 0, 0, 0, 0, 0, 0, 0, 0, 0, 0,],\n",
    "    [1, 1, 1, 0, 0, 0, 0, 0, 1, 0, 0, 0, 0, 0,],\n",
    "    [1, 0, 1, 0, 0, 0, 0, 0, 0, 0, 0, 0, 0, 0,],\n",
    "    [0, 0, 0, 1, 0, 0, 1, 0, 0, 0, 0, 0, 0, 0,]\n",
    "]\n",
    "figureFourMatrix = AdjacencyMatrix(matrix=matrix)\n",
    "vertices = [\"Atlantic City\",\"Chicago\",\"Detroit\",\"Fort Lauderdale\",\"Fort Myers\",\"Los Angeles\",\"Melbourne\",\"Myrtle Beach\",\"Newark\",\"New York (LaGuardia)\",\"Oakland\",\"Orlando\",\"Tampa\",\"Washington\"]\n",
    "print(f\"Shortest number of flights from Tampa to Newark is {figureFourMatrix.shortestDistance(12,8)}\")\n",
    "print(f\"Total number of paths from Tampa to Newark is {figureFourMatrix.getSN()[12][8]}\")\n",
    "print(f\"The total number of paths with {figureFourMatrix.shortestDistance(12,8)} paths is {figureFourMatrix.numPaths(12,8,3)}\")"
   ]
  },
  {
   "cell_type": "markdown",
   "metadata": {},
   "source": [
    "### Question 8\n",
    "What is the largest number of flights you would need to get from one Spirit city to\n",
    "another? Which trips take the largest number of flights? How many ways can you\n",
    "make those trips?\n",
    "\n",
    "**To solve this, we can create an array of shortest flights and find the largest number of trips from that array.**\n"
   ]
  },
  {
   "cell_type": "code",
   "execution_count": 29,
   "metadata": {
    "pycharm": {
     "name": "#%%\n"
    }
   },
   "outputs": [
    {
     "name": "stdout",
     "output_type": "stream",
     "text": [
      "The longest shortest trip possible between two cities is 3 and this was possible from 32 different trips.\n"
     ]
    }
   ],
   "source": [
    "shortestFlightsMatrix= []\n",
    "for row in range(0,figureFourMatrix.n):\n",
    "    tempRow = []\n",
    "    for column in range(0,figureFourMatrix.n):\n",
    "        tempRow.append(figureFourMatrix.shortestDistance(row,column))\n",
    "    shortestFlightsMatrix.append(tempRow)\n",
    "longestTrip = 0\n",
    "countLongest = 0\n",
    "for row in range(0,figureFourMatrix.n):\n",
    "    tempRow = []\n",
    "    for column in range(0,figureFourMatrix.n):\n",
    "        if longestTrip < shortestFlightsMatrix[row][column]:\n",
    "            longestTrip = shortestFlightsMatrix[row][column]\n",
    "            countLongest = 1\n",
    "        elif longestTrip == shortestFlightsMatrix[row][column]:\n",
    "            countLongest += 1\n",
    "print(f\"The longest shortest trip possible between two cities is {longestTrip} and this was possible from {countLongest} different trips.\")"
   ]
  },
  {
   "cell_type": "markdown",
   "metadata": {},
   "source": [
    "AdjacencyMatrix code\n",
    "===\n",
    "This is the Object class we used to help us solve the questions."
   ]
  },
  {
   "cell_type": "code",
   "execution_count": 30,
   "metadata": {
    "pycharm": {
     "name": "#%%\n"
    }
   },
   "outputs": [],
   "source": [
    "class AdjacencyMatrix:\n",
    "    def __init__(self, matrix=None, n=1):\n",
    "        \"\"\"\n",
    "        Initializes an adjacency matrix with n vertices\n",
    "        :param n: the number of vertices\n",
    "        :param matrix: an n x n matrix to make the adjacency matrix\n",
    "        \"\"\"\n",
    "        if matrix is None:\n",
    "            self.n = n\n",
    "            self.matrix = np.zeros((n, n))\n",
    "        else:\n",
    "            self.matrix = np.array(matrix)\n",
    "            self.n = self.matrix.shape[0]\n",
    "\n",
    "    def addEdge(self, v1, v2):\n",
    "        \"\"\"\n",
    "        Adds an edge between v1 and v2\n",
    "        :param v1: vertex 1\n",
    "        :param v2: vertex 2\n",
    "        \"\"\"\n",
    "        self.matrix[v1][v2] = 1\n",
    "        self.matrix[v2][v1] = 1\n",
    "\n",
    "    def removeEdge(self, v1, v2):\n",
    "        \"\"\"\n",
    "        Removes an edge between v1 and v2\n",
    "        :param v1: vertex 1\n",
    "        :param v2: vertex 2\n",
    "        :return:\n",
    "        \"\"\"\n",
    "        self.matrix[v1][v2] = 0\n",
    "        self.matrix[v2][v1] = 0\n",
    "\n",
    "    def __str__(self):\n",
    "        \"\"\"\n",
    "        Prints the adjacency matrix\n",
    "        \"\"\"\n",
    "        return str(self.matrix)\n",
    "\n",
    "    def getAdjacentVertices(self, v):\n",
    "        \"\"\"\n",
    "        Returns the adjacent vertices of v\n",
    "        :param v: The vertex to get the adjacent vertices of\n",
    "        :return: List of adjacent vertices\n",
    "        \"\"\"\n",
    "        adjacentVertices = []\n",
    "        for i in range(self.n):\n",
    "            if self.matrix[v][i] == 1:\n",
    "                adjacentVertices.append(i)\n",
    "        return adjacentVertices\n",
    "\n",
    "    def areConnected(self, v1, v2, numSteps=1):\n",
    "        \"\"\"\n",
    "        Returns true if there is a path between v1 and v2 in numVertices steps. numSteps is defaulted to 1.\n",
    "        :param v1: vertex 1\n",
    "        :param v2: vertex 2\n",
    "        :param numSteps: number of steps to get from v1 to v2\n",
    "        :return: Boolean giving whether there is a path between v1 and v2\n",
    "        \"\"\"\n",
    "\n",
    "        return self.getStepMatrix(numSteps)[v1][v2] != 0\n",
    "\n",
    "    def shortestDistance(self, v1, v2):\n",
    "        \"\"\"\n",
    "        Returns the shortest distance between v1 and v2\n",
    "        :param v1: vertex 1\n",
    "        :param v2: vertex 2\n",
    "        :return: Shortest number of steps to get from v1 to v2\n",
    "        \"\"\"\n",
    "        if v1 == v2:\n",
    "            return 0\n",
    "        for i in range(1, self.n):\n",
    "            if self.areConnected(v1, v2, i):\n",
    "                return i\n",
    "        return -1\n",
    "\n",
    "    def numPaths(self, v1, v2, numSteps):\n",
    "        \"\"\"\n",
    "        Returns the number of paths from v1 to v2 when going numSteps steps\n",
    "        :param v1: vertex 1\n",
    "        :param v2: vertex 2\n",
    "        :param numSteps: number of steps\n",
    "        :return: number of paths\n",
    "        \"\"\"\n",
    "        return self.getStepMatrix(numSteps)[v1][v2]\n",
    "\n",
    "    def getStepMatrix(self, numSteps):\n",
    "        return np.linalg.matrix_power(self.matrix, numSteps)\n",
    "\n",
    "    def getSN(self):\n",
    "        \"\"\"\n",
    "        Returns the Sn matrix of the Adjacency Matrix\n",
    "        \"\"\"\n",
    "        final = self.matrix\n",
    "        for x in range(2, self.n + 1):\n",
    "            final = np.add(final, np.linalg.matrix_power(self.matrix, x))\n",
    "        return final"
   ]
  }
 ],
 "metadata": {
  "kernelspec": {
   "display_name": "Python 3 (ipykernel)",
   "language": "python",
   "name": "python3"
  },
  "language_info": {
   "codemirror_mode": {
    "name": "ipython",
    "version": 3
   },
   "file_extension": ".py",
   "mimetype": "text/x-python",
   "name": "python",
   "nbconvert_exporter": "python",
   "pygments_lexer": "ipython3",
   "version": "3.9.6"
  }
 },
 "nbformat": 4,
 "nbformat_minor": 1
}