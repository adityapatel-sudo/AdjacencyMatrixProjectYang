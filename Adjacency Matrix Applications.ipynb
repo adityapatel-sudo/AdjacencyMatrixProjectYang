{
 "cells": [
  {
   "cell_type": "markdown",
   "metadata": {
    "collapsed": true,
    "pycharm": {
     "name": "#%% md\n"
    }
   },
   "source": []
  },
  {
   "cell_type": "code",
   "execution_count": 1,
   "outputs": [],
   "source": [
    "from AdjacencyMatrix import AdjacencyMatrix"
   ],
   "metadata": {
    "collapsed": false,
    "pycharm": {
     "name": "#%%\n"
    }
   }
  },
  {
   "cell_type": "raw",
   "source": [
    "## Question 1\n",
    "The route map for the northern routes of the now defunct Big Sky Airlines for 2008 is given in Figure 3 below. Produce an adjacency matrix for this map.\n",
    "\n",
    "<img alt=\"2008 Flight Route Map\" src=\"Assets/2008 Flight Route Map.png\"/>"
   ],
   "metadata": {
    "collapsed": false,
    "pycharm": {
     "name": "#%% raw\n"
    }
   }
  },
  {
   "cell_type": "code",
   "execution_count": 2,
   "outputs": [],
   "source": [
    "flightMatrix = AdjacencyMatrix(matrix=[\n",
    "[0,1,0,0,0,0,0,0,0,0,0,0,0,0,0],\n",
    "[1,0,1,0,1,0,0,0,0,0,0,0,0,0,0],\n",
    "[0,1,0,1,0,0,0,0,0,0,0,0,0,0,0],\n",
    "[0,0,1,0,0,0,0,0,0,0,0,0,0,0,0],\n",
    "[0,1,0,0,0,1,0,0,0,0,0,0,0,0,0],\n",
    "[0,0,0,0,1,0,1,0,1,1,1,0,1,1,0],\n",
    "[0,0,0,0,0,1,0,1,0,0,0,0,0,0,0],\n",
    "[0,0,0,0,0,0,1,0,0,0,0,0,0,0,0],\n",
    "[0,0,0,0,0,1,0,0,0,1,0,0,0,0,0],\n",
    "[0,0,0,0,0,1,0,0,1,0,0,0,0,0,0],\n",
    "[0,0,0,0,0,1,0,0,0,0,0,1,0,0,0],\n",
    "[0,0,0,0,0,0,0,0,0,0,1,0,1,0,0],\n",
    "[0,0,0,0,0,1,0,0,0,0,0,1,0,0,0],\n",
    "[0,0,0,0,0,1,0,0,0,0,0,0,0,0,1],\n",
    "[0,0,0,0,0,0,0,0,0,0,0,0,0,1,0],\n",
    "])\n"
   ],
   "metadata": {
    "collapsed": false,
    "pycharm": {
     "name": "#%%\n"
    }
   }
  },
  {
   "cell_type": "markdown",
   "source": [
    "## Question 2\n",
    "For Figure 1, list the three-step sequences between C and F, and confirm that there are indeed 5 of them."
   ],
   "metadata": {
    "collapsed": false,
    "pycharm": {
     "name": "#%% md\n"
    }
   }
  },
  {
   "cell_type": "code",
   "execution_count": 3,
   "outputs": [
    {
     "name": "stdout",
     "output_type": "stream",
     "text": [
      "\n",
      "    The Three-Step Sequences between C and F are:\n",
      "    C -> B -> E -> F\n",
      "    C -> B -> F -> F\n",
      "    C -> B -> C -> F\n",
      "    C -> F -> E -> F\n",
      "    C -> F -> C -> F\n",
      "    \n",
      "5\n"
     ]
    }
   ],
   "source": [
    "\"\"\"\n",
    "INDEX MAPPING:\n",
    "A = 0\n",
    "B = 1\n",
    "C = 2\n",
    "D = 3\n",
    "E = 4\n",
    "F = 5\n",
    "\"\"\"\n",
    "figureOneMatrix = AdjacencyMatrix(matrix=[\n",
    "    [0, 1, 0, 0, 0, 0],\n",
    "    [1, 0, 1, 0, 1, 0],\n",
    "    [0, 1, 0, 0, 0, 1],\n",
    "    [0, 0, 0, 0, 0, 0],\n",
    "    [0, 1, 0, 0, 0, 1],\n",
    "    [0, 0, 1, 0, 1, 1]\n",
    "])\n",
    "\n",
    "print(\n",
    "    \"\"\"\n",
    "    The Three-Step Sequences between C and F are:\n",
    "    C -> B -> E -> F\n",
    "    C -> B -> F -> F\n",
    "    C -> B -> C -> F\n",
    "    C -> F -> E -> F\n",
    "    C -> F -> C -> F\n",
    "    \"\"\"\n",
    ")\n",
    "\n",
    "print(figureOneMatrix.numPaths(2, 5, 3))"
   ],
   "metadata": {
    "collapsed": false,
    "pycharm": {
     "name": "#%%\n"
    }
   }
  },
  {
   "cell_type": "markdown",
   "source": [
    "## Question 3\n",
    "In Figure 1, show that the shortest path between A and F has 3 steps."
   ],
   "metadata": {
    "collapsed": false,
    "pycharm": {
     "name": "#%% md\n"
    }
   }
  },
  {
   "cell_type": "raw",
   "source": [],
   "metadata": {
    "collapsed": false,
    "pycharm": {
     "name": "#%% raw\n"
    }
   }
  },
  {
   "cell_type": "code",
   "execution_count": 4,
   "outputs": [
    {
     "name": "stdout",
     "output_type": "stream",
     "text": [
      "Shortest distance is 3\n",
      "The first matrix with a non zero entry at index 0 and 5 (which map to A and F) is: \n",
      "[[0 3 0 0 0 2]\n",
      " [3 0 5 0 5 2]\n",
      " [0 5 1 0 1 5]\n",
      " [0 0 0 0 0 0]\n",
      " [0 5 1 0 1 5]\n",
      " [2 2 5 0 5 5]]\n"
     ]
    }
   ],
   "source": [
    "print(f\"Shortest distance is {figureOneMatrix.shortestDistance(0, 5)}\")\n",
    "print(f\"The first matrix with a non zero entry at index 0 and 5 (which map to A and F) is: \\n{figureOneMatrix.getStepMatrix(3)}\")"
   ],
   "metadata": {
    "collapsed": false,
    "pycharm": {
     "name": "#%%\n"
    }
   }
  },
  {
   "cell_type": "markdown",
   "source": [
    "## Question 4\n",
    "Which Cape Air cities (Fig. 2) may be reached by a two flight sequence from New Bedford?\n",
    "Which may be reached by a three flight sequence?\n",
    "\n"
   ],
   "metadata": {
    "collapsed": false
   }
  },
  {
   "cell_type": "code",
   "execution_count": 5,
   "outputs": [
    {
     "name": "stdout",
     "output_type": "stream",
     "text": [
      "Possible in 2:\n",
      "0: Boston\n",
      "2: Providence\n",
      "3: Hyannis\n",
      "4: New Bedford\n",
      "5: Martha's Vineyard\n",
      "6: Nantucket\n",
      "Possible in 3:\n",
      "0: Boston\n",
      "1: Provincetown\n",
      "2: Providence\n",
      "3: Hyannis\n",
      "4: New Bedford\n",
      "5: Martha's Vineyard\n",
      "6: Nantucket\n"
     ]
    }
   ],
   "source": [
    "\"\"\"\n",
    "INDEX MAPPING:\n",
    "Boston = 0\n",
    "Provincetown = 1\n",
    "Providence = 2\n",
    "Hyannis = 3\n",
    "New Bedford = 4\n",
    "Martha's Vineyard = 5\n",
    "Nantucket = 6\n",
    "\"\"\"\n",
    "index = [\"Boston\",\"Provincetown\",\"Providence\",\"Hyannis\",\"New Bedford\",\"Martha's Vineyard\",\"Nantucket\"]\n",
    "figureTwoMatrix = AdjacencyMatrix(matrix=[\n",
    "    [0, 1, 0, 1, 0, 1, 1],\n",
    "    [1, 0, 0, 0, 0, 0, 0],\n",
    "    [0, 0, 0, 0, 0, 1, 1],\n",
    "    [1, 0, 0, 0, 0, 1, 1],\n",
    "    [0, 0, 0, 0, 0, 1, 1],\n",
    "    [1, 0, 1, 1, 1, 0, 1],\n",
    "    [1, 0, 1, 1, 1, 1, 0]\n",
    "])\n",
    "\n",
    "print(f\"Possible in 2:\")\n",
    "for city in range(0,7):\n",
    "    if figureTwoMatrix.numPaths(4, city, 2):\n",
    "        print(f\"{city}: {index[city]}\")\n",
    "\n",
    "print(f\"Possible in 3:\")\n",
    "for city in range(0,7):\n",
    "    if figureTwoMatrix.numPaths(4, city, 3):\n",
    "        print(f\"{city}: {index[city]}\")"
   ],
   "metadata": {
    "collapsed": false,
    "pycharm": {
     "name": "#%%\n"
    }
   }
  },
  {
   "cell_type": "markdown",
   "source": [
    "## Question 5\n",
    "Which trips in the Cape Air network (Fig. 2) take the greatest number of flights?"
   ],
   "metadata": {
    "collapsed": false
   }
  },
  {
   "cell_type": "code",
   "execution_count": 6,
   "outputs": [
    {
     "name": "stdout",
     "output_type": "stream",
     "text": [
      "The following trips have the max length of 3.\n",
      "Provincetown to Providence\n",
      "Provincetown to New Bedford\n",
      "Providence to Provincetown\n",
      "New Bedford to Provincetown\n"
     ]
    }
   ],
   "source": [
    "tripLengths = []\n",
    "for row in range(0,7):\n",
    "    rowTrips = []\n",
    "    for column in range(0,7):\n",
    "        rowTrips.append(figureTwoMatrix.shortestDistance(row,column))\n",
    "    tripLengths.append(rowTrips)\n",
    "\n",
    "longestTrip = 0\n",
    "for row in tripLengths:\n",
    "    for column in row:\n",
    "        if column > longestTrip:\n",
    "            longestTrip = column\n",
    "\n",
    "print(f\"The following trips have the max length of {longestTrip}.\")\n",
    "for row in range(0,7):\n",
    "    for column in range(0,7):\n",
    "        if tripLengths[row][column] == longestTrip:\n",
    "            print(f\"{index[row]} to {index[column]}\")"
   ],
   "metadata": {
    "collapsed": false,
    "pycharm": {
     "name": "#%%\n"
    }
   }
  },
  {
   "cell_type": "markdown",
   "source": [
    "##Question 6\n",
    "Show that the graph in Figure 1 is not connected by observing Sn."
   ],
   "metadata": {
    "collapsed": false
   }
  },
  {
   "cell_type": "code",
   "execution_count": 7,
   "outputs": [
    {
     "name": "stdout",
     "output_type": "stream",
     "text": [
      "[[ 17  21  33   0  33  32]\n",
      " [ 21  83  53   0  53  98]\n",
      " [ 33  53  74   0  74  86]\n",
      " [  0   0   0   0   0   0]\n",
      " [ 33  53  74   0  74  86]\n",
      " [ 32  98  86   0  86 136]]\n"
     ]
    }
   ],
   "source": [
    "final = figureOneMatrix.getSN()\n",
    "print(final)"
   ],
   "metadata": {
    "collapsed": false,
    "pycharm": {
     "name": "#%%\n"
    }
   }
  },
  {
   "cell_type": "markdown",
   "source": [
    "Because there exist 0 inside the Sn Matrix, the graph is not connected."
   ],
   "metadata": {
    "collapsed": false
   }
  },
  {
   "cell_type": "markdown",
   "source": [
    "##Question 7\n",
    "Figure 4 shows the May 2001 route map for Spirit Airlines. An updated map may be\n",
    "found at www.spirit.com/RouteMaps.aspx. The adjacency matrix for the map in\n",
    "Figure 4 is the matrix D. The vertices correspond to: Atlantic City, Chicago (O'Hare),\n",
    "Detroit, Fort Lauderdale, Fort Myers, Los Angeles, Melbourne, Myrtle Beach,\n",
    "Newark, New York (LaGuardia), Oakl and, Orlando, Tampa, and Washington\n",
    "(Reagan National). What is the shortest num ber of flights it w ould take to go from\n",
    "Tampa to Newark? How many different ways can you make that trip?"
   ],
   "metadata": {
    "collapsed": false
   }
  },
  {
   "cell_type": "code",
   "execution_count": null,
   "outputs": [],
   "source": [
    "matrix= [\n",
    "    [0, 1, 0, 1, 1, 0, 0, 1, 0, 0, 0, 1, 1, 0,],\n",
    "    [1, 0, 0, 1, 1, 1, 0, 1, 0, 0, 0, 1, 0, 0,],\n",
    "    [0, 0, 0, 1, 1, 1, 0, 1, 0, 1, 1, 1, 1, 0,],\n",
    "    [1, 1, 1, 0, 0, 0, 1, 0, 1, 1, 0, 0, 0, 1,],\n",
    "    [1, 1, 1, 0, 0, 0, 0, 0, 0, 1, 0, 0, 0, 0,],\n",
    "    [0, 1, 1, 0, 0, 0, 0, 0, 0, 0, 0, 0, 0, 0,],\n",
    "    [0, 0, 0, 1, 0, 0, 0, 0, 0, 1, 0, 0, 0, 1,],\n",
    "    [1, 1, 1, 0, 0, 0, 0, 0, 1, 1, 0, 0, 0, 0,],\n",
    "    [0, 0, 0, 1, 0, 0, 0, 1, 0, 0, 0, 1, 0, 0,],\n",
    "    [0, 0, 1, 1, 1, 0, 1, 1, 0, 0, 0, 0, 0, 0,],\n",
    "    [0, 0, 1, 0, 0, 0, 0, 0, 0, 0, 0, 0, 0, 0,],\n",
    "    [1, 1, 1, 0, 0, 0, 0, 0, 1, 0, 0, 0, 0, 0,],\n",
    "    [1, 0, 1, 0, 0, 0, 0, 0, 0, 0, 0, 0, 0, 0,],\n",
    "    [0, 0, 0, 1, 0, 0, 1, 0, 0, 0, 0, 0, 0, 0,]\n",
    "]\n",
    "figureFourMatrix = AdjacencyMatrix(matrix=matrix)\n",
    "vertices = [\"Atlantic City\",\"Chicago\",\"Detroit\",\"Fort Lauderdale\",\"Fort Myers\",\"Los Angeles\",\"Melbourne\",\"Myrtle Beach\",\"Newark\",\"New York (LaGuardia)\",\"Oakland\",\"Orlando\",\"Tampa\",\"Washington\"]\n",
    "print(f\"Shortest number of flights from Tampa to Newark is {figureFourMatrix.shortestDistance(12,8)}\")\n"
   ],
   "metadata": {
    "collapsed": false,
    "pycharm": {
     "name": "#%%\n"
    }
   }
  }
 ],
 "metadata": {
  "kernelspec": {
   "display_name": "Python 3",
   "language": "python",
   "name": "python3"
  },
  "language_info": {
   "codemirror_mode": {
    "name": "ipython",
    "version": 2
   },
   "file_extension": ".py",
   "mimetype": "text/x-python",
   "name": "python",
   "nbconvert_exporter": "python",
   "pygments_lexer": "ipython2",
   "version": "2.7.6"
  }
 },
 "nbformat": 4,
 "nbformat_minor": 0
}