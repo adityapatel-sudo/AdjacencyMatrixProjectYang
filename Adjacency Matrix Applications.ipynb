{
 "cells": [
  {
   "cell_type": "markdown",
   "metadata": {
    "collapsed": true,
    "pycharm": {
     "name": "#%% md\n"
    }
   },
   "source": []
  },
  {
   "cell_type": "code",
   "execution_count": 25,
   "metadata": {
    "pycharm": {
     "name": "#%%\n"
    }
   },
   "outputs": [],
   "source": [
    "from AdjacencyMatrix import AdjacencyMatrix"
   ]
  },
  {
   "cell_type": "raw",
   "metadata": {
    "pycharm": {
     "name": "#%% raw\n"
    }
   },
   "source": [
    "## Question 1\n",
    "The route map for the northern routes of the now defunct Big Sky Airlines for 2008 is given in Figure 3 below. Produce an adjacency matrix for this map.\n",
    "\n",
    "<img alt=\"2008 Flight Route Map\" src=\"Assets/2008 Flight Route Map.png\"/>"
   ]
  },
  {
   "cell_type": "code",
   "execution_count": 26,
   "metadata": {
    "pycharm": {
     "name": "#%%\n"
    }
   },
   "outputs": [],
   "source": [
    "flightMatrix = AdjacencyMatrix(matrix=[\n",
    "[0,1,0,0,0,0,0,0,0,0,0,0,0,0,0],\n",
    "[1,0,1,0,1,0,0,0,0,0,0,0,0,0,0],\n",
    "[0,1,0,1,0,0,0,0,0,0,0,0,0,0,0],\n",
    "[0,0,1,0,0,0,0,0,0,0,0,0,0,0,0],\n",
    "[0,1,0,0,0,1,0,0,0,0,0,0,0,0,0],\n",
    "[0,0,0,0,1,0,1,0,1,1,1,0,1,1,0],\n",
    "[0,0,0,0,0,1,0,1,0,0,0,0,0,0,0],\n",
    "[0,0,0,0,0,0,1,0,0,0,0,0,0,0,0],\n",
    "[0,0,0,0,0,1,0,0,0,1,0,0,0,0,0],\n",
    "[0,0,0,0,0,1,0,0,1,0,0,0,0,0,0],\n",
    "[0,0,0,0,0,1,0,0,0,0,0,1,0,0,0],\n",
    "[0,0,0,0,0,0,0,0,0,0,1,0,1,0,0],\n",
    "[0,0,0,0,0,1,0,0,0,0,0,1,0,0,0],\n",
    "[0,0,0,0,0,1,0,0,0,0,0,0,0,0,1],\n",
    "[0,0,0,0,0,0,0,0,0,0,0,0,0,1,0],\n",
    "])\n"
   ]
  },
  {
   "cell_type": "markdown",
   "metadata": {
    "pycharm": {
     "name": "#%% md\n"
    }
   },
   "source": [
    "## Question 2\n",
    "For Figure 1, list the three-step sequences between C and F, and confirm that there are indeed 5 of them."
   ]
  },
  {
   "cell_type": "code",
   "execution_count": 27,
   "metadata": {
    "pycharm": {
     "name": "#%%\n"
    }
   },
   "outputs": [
    {
     "name": "stdout",
     "output_type": "stream",
     "text": [
      "\n",
      "    The Three-Step Sequences between C and F are:\n",
      "    C -> B -> E -> F\n",
      "    C -> B -> F -> F\n",
      "    C -> B -> C -> F\n",
      "    C -> F -> E -> F\n",
      "    C -> F -> C -> F\n",
      "    \n",
      "5\n"
     ]
    }
   ],
   "source": [
    "\"\"\"\n",
    "INDEX MAPPING:\n",
    "A = 0\n",
    "B = 1\n",
    "C = 2\n",
    "D = 3\n",
    "E = 4\n",
    "F = 5\n",
    "\"\"\"\n",
    "figureOneMatrix = AdjacencyMatrix(matrix=[\n",
    "    [0, 1, 0, 0, 0, 0],\n",
    "    [1, 0, 1, 0, 1, 0],\n",
    "    [0, 1, 0, 0, 0, 1],\n",
    "    [0, 0, 0, 0, 0, 0],\n",
    "    [0, 1, 0, 0, 0, 1],\n",
    "    [0, 0, 1, 0, 1, 1]\n",
    "])\n",
    "\n",
    "print(\n",
    "    \"\"\"\n",
    "    The Three-Step Sequences between C and F are:\n",
    "    C -> B -> E -> F\n",
    "    C -> B -> F -> F\n",
    "    C -> B -> C -> F\n",
    "    C -> F -> E -> F\n",
    "    C -> F -> C -> F\n",
    "    \"\"\"\n",
    ")\n",
    "\n",
    "print(figureOneMatrix.numPaths(2, 5, 3))"
   ]
  },
  {
   "cell_type": "markdown",
   "metadata": {
    "pycharm": {
     "name": "#%% md\n"
    }
   },
   "source": [
    "## Question 3\n",
    "In Figure 1, show that the shortest path between A and F has 3 steps."
   ]
  },
  {
   "cell_type": "raw",
   "metadata": {
    "pycharm": {
     "name": "#%% raw\n"
    }
   },
   "source": []
  },
  {
   "cell_type": "code",
   "execution_count": 28,
   "metadata": {
    "pycharm": {
     "name": "#%%\n"
    }
   },
   "outputs": [
    {
     "name": "stdout",
     "output_type": "stream",
     "text": [
      "Shortest distance is 3\n",
      "The first matrix with a non zero entry at index 0 and 5 (which map to A and F) is: \n",
      "[[0 3 0 0 0 2]\n",
      " [3 0 5 0 5 2]\n",
      " [0 5 1 0 1 5]\n",
      " [0 0 0 0 0 0]\n",
      " [0 5 1 0 1 5]\n",
      " [2 2 5 0 5 5]]\n"
     ]
    }
   ],
   "source": [
    "print(f\"Shortest distance is {figureOneMatrix.shortestDistance(0, 5)}\")\n",
    "print(f\"The first matrix with a non zero entry at index 0 and 5 (which map to A and F) is: \\n{figureOneMatrix.getStepMatrix(3)}\")"
   ]
  },
  {
   "cell_type": "markdown",
   "metadata": {},
   "source": [
    "## Question 4\n",
    "Which Cape Air cities (Fig. 2) may be reached by a two flight sequence from New Bedford?\n",
    "Which may be reached by a three flight sequence?\n",
    "\n"
   ]
  },
  {
   "cell_type": "code",
   "execution_count": 29,
   "metadata": {
    "pycharm": {
     "name": "#%%\n"
    }
   },
   "outputs": [
    {
     "name": "stdout",
     "output_type": "stream",
     "text": [
      "Possible in 2:\n",
      "0: Boston\n",
      "2: Providence\n",
      "3: Hyannis\n",
      "4: New Bedford\n",
      "5: Martha's Vineyard\n",
      "6: Nantucket\n",
      "Possible in 3:\n",
      "0: Boston\n",
      "1: Provincetown\n",
      "2: Providence\n",
      "3: Hyannis\n",
      "4: New Bedford\n",
      "5: Martha's Vineyard\n",
      "6: Nantucket\n"
     ]
    }
   ],
   "source": [
    "\"\"\"\n",
    "INDEX MAPPING:\n",
    "Boston = 0\n",
    "Provincetown = 1\n",
    "Providence = 2\n",
    "Hyannis = 3\n",
    "New Bedford = 4\n",
    "Martha's Vineyard = 5\n",
    "Nantucket = 6\n",
    "\"\"\"\n",
    "index = [\"Boston\",\"Provincetown\",\"Providence\",\"Hyannis\",\"New Bedford\",\"Martha's Vineyard\",\"Nantucket\"]\n",
    "figureTwoMatrix = AdjacencyMatrix(matrix=[\n",
    "    [0, 1, 0, 1, 0, 1, 1],\n",
    "    [1, 0, 0, 0, 0, 0, 0],\n",
    "    [0, 0, 0, 0, 0, 1, 1],\n",
    "    [1, 0, 0, 0, 0, 1, 1],\n",
    "    [0, 0, 0, 0, 0, 1, 1],\n",
    "    [1, 0, 1, 1, 1, 0, 1],\n",
    "    [1, 0, 1, 1, 1, 1, 0]\n",
    "])\n",
    "\n",
    "print(f\"Possible in 2:\")\n",
    "for city in range(0,7):\n",
    "    if figureTwoMatrix.numPaths(4, city, 2):\n",
    "        print(f\"{city}: {index[city]}\")\n",
    "\n",
    "print(f\"Possible in 3:\")\n",
    "for city in range(0,7):\n",
    "    if figureTwoMatrix.numPaths(4, city, 3):\n",
    "        print(f\"{city}: {index[city]}\")"
   ]
  },
  {
   "cell_type": "markdown",
   "metadata": {},
   "source": [
    "## Question 5\n",
    "Which trips in the Cape Air network (Fig. 2) take the greatest number of flights?"
   ]
  },
  {
   "cell_type": "code",
   "execution_count": 30,
   "metadata": {
    "pycharm": {
     "name": "#%%\n"
    }
   },
   "outputs": [
    {
     "name": "stdout",
     "output_type": "stream",
     "text": [
      "The following trips have the max length of 3.\n",
      "Provincetown to Providence\n",
      "Provincetown to New Bedford\n",
      "Providence to Provincetown\n",
      "New Bedford to Provincetown\n"
     ]
    }
   ],
   "source": [
    "tripLengths = []\n",
    "for row in range(0,7):\n",
    "    rowTrips = []\n",
    "    for column in range(0,7):\n",
    "        rowTrips.append(figureTwoMatrix.shortestDistance(row,column))\n",
    "    tripLengths.append(rowTrips)\n",
    "\n",
    "longestTrip = 0\n",
    "for row in tripLengths:\n",
    "    for column in row:\n",
    "        if column > longestTrip:\n",
    "            longestTrip = column\n",
    "\n",
    "print(f\"The following trips have the max length of {longestTrip}.\")\n",
    "for row in range(0,7):\n",
    "    for column in range(0,7):\n",
    "        if tripLengths[row][column] == longestTrip:\n",
    "            print(f\"{index[row]} to {index[column]}\")"
   ]
  },
  {
   "cell_type": "markdown",
   "metadata": {},
   "source": [
    "## Question 6\n",
    "Show that the graph in Figure 1 is not connected by observing Sn."
   ]
  },
  {
   "cell_type": "code",
   "execution_count": 31,
   "metadata": {
    "pycharm": {
     "name": "#%%\n"
    }
   },
   "outputs": [
    {
     "name": "stdout",
     "output_type": "stream",
     "text": [
      "[[ 17  21  33   0  33  32]\n",
      " [ 21  83  53   0  53  98]\n",
      " [ 33  53  74   0  74  86]\n",
      " [  0   0   0   0   0   0]\n",
      " [ 33  53  74   0  74  86]\n",
      " [ 32  98  86   0  86 136]]\n"
     ]
    }
   ],
   "source": [
    "final = figureOneMatrix.getSN()\n",
    "print(final)"
   ]
  },
  {
   "cell_type": "markdown",
   "metadata": {},
   "source": [
    "Because there exist 0 inside the Sn Matrix, the graph is not connected."
   ]
  },
  {
   "cell_type": "markdown",
   "metadata": {},
   "source": [
    "## Question 7\n",
    "Figure 4 shows the May 2001 route map for Spirit Airlines. An updated map may be found at www.spirit.com/RouteMaps.aspx. The adjacency matrix for the map in Figure 4 is the matrix D. The vertices correspond to: Atlantic City, Chicago (O'Hare), Detroit, Fort Lauderdale, Fort Myers, Los Angeles, Melbourne, Myrtle Beach, Newark, New York (LaGuardia), Oakl and, Orlando, Tampa, and Washington (Reagan National). What is the shortest num ber of flights it w ould take to go from Tampa to Newark? How many different ways can you make that trip?"
   ]
  },
  {
   "cell_type": "code",
   "execution_count": 32,
   "metadata": {
    "pycharm": {
     "name": "#%%\n"
    }
   },
   "outputs": [
    {
     "name": "stdout",
     "output_type": "stream",
     "text": [
      "Shortest number of flights from Tampa to Newark is 3\n",
      "Total number of paths from Tampa to Newark is 180310442\n",
      "The total number of paths with 3 paths is 6\n"
     ]
    }
   ],
   "source": [
    "matrix= [\n",
    "    [0, 1, 0, 1, 1, 0, 0, 1, 0, 0, 0, 1, 1, 0,],\n",
    "    [1, 0, 0, 1, 1, 1, 0, 1, 0, 0, 0, 1, 0, 0,],\n",
    "    [0, 0, 0, 1, 1, 1, 0, 1, 0, 1, 1, 1, 1, 0,],\n",
    "    [1, 1, 1, 0, 0, 0, 1, 0, 1, 1, 0, 0, 0, 1,],\n",
    "    [1, 1, 1, 0, 0, 0, 0, 0, 0, 1, 0, 0, 0, 0,],\n",
    "    [0, 1, 1, 0, 0, 0, 0, 0, 0, 0, 0, 0, 0, 0,],\n",
    "    [0, 0, 0, 1, 0, 0, 0, 0, 0, 1, 0, 0, 0, 1,],\n",
    "    [1, 1, 1, 0, 0, 0, 0, 0, 1, 1, 0, 0, 0, 0,],\n",
    "    [0, 0, 0, 1, 0, 0, 0, 1, 0, 0, 0, 1, 0, 0,],\n",
    "    [0, 0, 1, 1, 1, 0, 1, 1, 0, 0, 0, 0, 0, 0,],\n",
    "    [0, 0, 1, 0, 0, 0, 0, 0, 0, 0, 0, 0, 0, 0,],\n",
    "    [1, 1, 1, 0, 0, 0, 0, 0, 1, 0, 0, 0, 0, 0,],\n",
    "    [1, 0, 1, 0, 0, 0, 0, 0, 0, 0, 0, 0, 0, 0,],\n",
    "    [0, 0, 0, 1, 0, 0, 1, 0, 0, 0, 0, 0, 0, 0,]\n",
    "]\n",
    "figureFourMatrix = AdjacencyMatrix(matrix=matrix)\n",
    "vertices = [\"Atlantic City\",\"Chicago\",\"Detroit\",\"Fort Lauderdale\",\"Fort Myers\",\"Los Angeles\",\"Melbourne\",\"Myrtle Beach\",\"Newark\",\"New York (LaGuardia)\",\"Oakland\",\"Orlando\",\"Tampa\",\"Washington\"]\n",
    "print(f\"Shortest number of flights from Tampa to Newark is {figureFourMatrix.shortestDistance(12,8)}\")\n",
    "print(f\"Total number of paths from Tampa to Newark is {figureFourMatrix.getSN()[12][8]}\")\n",
    "print(f\"The total number of paths with {figureFourMatrix.shortestDistance(12,8)} paths is {figureFourMatrix.numPaths(12,8,3)}\")"
   ]
  },
  {
   "cell_type": "markdown",
   "metadata": {},
   "source": [
    "## Question 8\n",
    "What is the largest number of flights you would need to get from one Spirit city to\n",
    "another? Which trips take the largest number of flights? How many ways can you\n",
    "make those trips?\n",
    "\n",
    "**The largest number of steps it could take to go from a vertex to any other vertex is n steps.**\n"
   ]
  },
  {
   "cell_type": "code",
   "execution_count": 33,
   "metadata": {
    "pycharm": {
     "name": "#%%\n"
    }
   },
   "outputs": [
    {
     "ename": "IndexError",
     "evalue": "index 14 is out of bounds for axis 0 with size 14",
     "output_type": "error",
     "traceback": [
      "\u001B[0;31m---------------------------------------------------------------------------\u001B[0m",
      "\u001B[0;31mIndexError\u001B[0m                                Traceback (most recent call last)",
      "Input \u001B[0;32mIn [33]\u001B[0m, in \u001B[0;36m<cell line: 2>\u001B[0;34m()\u001B[0m\n\u001B[1;32m      3\u001B[0m     tempRow \u001B[38;5;241m=\u001B[39m []\n\u001B[1;32m      4\u001B[0m     \u001B[38;5;28;01mfor\u001B[39;00m column \u001B[38;5;129;01min\u001B[39;00m \u001B[38;5;28mrange\u001B[39m(\u001B[38;5;241m0\u001B[39m,figureFourMatrix\u001B[38;5;241m.\u001B[39mn\u001B[38;5;241m+\u001B[39m\u001B[38;5;241m1\u001B[39m):\n\u001B[0;32m----> 5\u001B[0m         tempRow\u001B[38;5;241m.\u001B[39mappend(\u001B[43mfigureFourMatrix\u001B[49m\u001B[38;5;241;43m.\u001B[39;49m\u001B[43mnumPaths\u001B[49m\u001B[43m(\u001B[49m\u001B[43mrow\u001B[49m\u001B[43m,\u001B[49m\u001B[43mcolumn\u001B[49m\u001B[43m,\u001B[49m\u001B[43mfigureFourMatrix\u001B[49m\u001B[38;5;241;43m.\u001B[39;49m\u001B[43mn\u001B[49m\u001B[43m)\u001B[49m)\n\u001B[1;32m      6\u001B[0m     nStepMatrix\u001B[38;5;241m.\u001B[39mappend(tempRow)\n\u001B[1;32m      7\u001B[0m \u001B[38;5;28mprint\u001B[39m(nStepMatrix)\n",
      "File \u001B[0;32m~/Documents/GitHub/YangProjectChapter2/AdjacencyMatrix/AdjacencyMatrix.py:88\u001B[0m, in \u001B[0;36mAdjacencyMatrix.numPaths\u001B[0;34m(self, v1, v2, numSteps)\u001B[0m\n\u001B[1;32m     80\u001B[0m \u001B[38;5;28;01mdef\u001B[39;00m \u001B[38;5;21mnumPaths\u001B[39m(\u001B[38;5;28mself\u001B[39m, v1, v2, numSteps):\n\u001B[1;32m     81\u001B[0m     \u001B[38;5;124;03m\"\"\"\u001B[39;00m\n\u001B[1;32m     82\u001B[0m \u001B[38;5;124;03m    Returns the number of paths from v1 to v2 when going numSteps steps\u001B[39;00m\n\u001B[1;32m     83\u001B[0m \u001B[38;5;124;03m    :param v1: vertex 1\u001B[39;00m\n\u001B[0;32m   (...)\u001B[0m\n\u001B[1;32m     86\u001B[0m \u001B[38;5;124;03m    :return: number of paths\u001B[39;00m\n\u001B[1;32m     87\u001B[0m \u001B[38;5;124;03m    \"\"\"\u001B[39;00m\n\u001B[0;32m---> 88\u001B[0m     \u001B[38;5;28;01mreturn\u001B[39;00m \u001B[38;5;28;43mself\u001B[39;49m\u001B[38;5;241;43m.\u001B[39;49m\u001B[43mgetStepMatrix\u001B[49m\u001B[43m(\u001B[49m\u001B[43mnumSteps\u001B[49m\u001B[43m)\u001B[49m\u001B[43m[\u001B[49m\u001B[43mv1\u001B[49m\u001B[43m]\u001B[49m\u001B[43m[\u001B[49m\u001B[43mv2\u001B[49m\u001B[43m]\u001B[49m\n",
      "\u001B[0;31mIndexError\u001B[0m: index 14 is out of bounds for axis 0 with size 14"
     ]
    }
   ],
   "source": [
    "nStepMatrix= []\n",
    "for row in range(0,figureFourMatrix.n+1):\n",
    "    tempRow = []\n",
    "    for column in range(0,figureFourMatrix.n+1):\n",
    "        tempRow.append(figureFourMatrix.numPaths(row,column,figureFourMatrix.n))\n",
    "    nStepMatrix.append(tempRow)\n",
    "print(nStepMatrix)"
   ]
  }
 ],
 "metadata": {
  "kernelspec": {
   "display_name": "Python 3 (ipykernel)",
   "language": "python",
   "name": "python3"
  },
  "language_info": {
   "codemirror_mode": {
    "name": "ipython",
    "version": 3
   },
   "file_extension": ".py",
   "mimetype": "text/x-python",
   "name": "python",
   "nbconvert_exporter": "python",
   "pygments_lexer": "ipython3",
   "version": "3.9.6"
  }
 },
 "nbformat": 4,
 "nbformat_minor": 1
}