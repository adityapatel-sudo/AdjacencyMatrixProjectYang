{
 "cells": [
  {
   "cell_type": "markdown",
   "metadata": {
    "collapsed": true,
    "pycharm": {
     "name": "#%% md\n"
    }
   },
   "source": []
  },
  {
   "cell_type": "code",
   "execution_count": 2,
   "outputs": [],
   "source": [
    "from AdjacencyMatrix import AdjacencyMatrix"
   ],
   "metadata": {
    "collapsed": false,
    "pycharm": {
     "name": "#%%\n"
    }
   }
  },
  {
   "cell_type": "markdown",
   "source": [
    "## Question 1\n",
    "The route map for the northern routes of the now defunct Big Sky Airlines for 2008 is given in Figure 3 below. Produce an adjacency matrix for this map.\n",
    "\n",
    "<img alt=\"2008 Flight Route Map\" src=\"Assets/2008 Flight Route Map.png\"/>"
   ],
   "metadata": {
    "collapsed": false
   }
  },
  {
   "cell_type": "code",
   "execution_count": 3,
   "outputs": [],
   "source": [
    "flightMatrix = AdjacencyMatrix(matrix=[\n",
    "[0,1,0,0,0,0,0,0,0,0,0,0,0,0,0],\n",
    "[1,0,1,0,1,0,0,0,0,0,0,0,0,0,0],\n",
    "[0,1,0,1,0,0,0,0,0,0,0,0,0,0,0],\n",
    "[0,0,1,0,0,0,0,0,0,0,0,0,0,0,0],\n",
    "[0,1,0,0,0,1,0,0,0,0,0,0,0,0,0],\n",
    "[0,0,0,0,1,0,1,0,1,1,1,0,1,1,0],\n",
    "[0,0,0,0,0,1,0,1,0,0,0,0,0,0,0],\n",
    "[0,0,0,0,0,0,1,0,0,0,0,0,0,0,0],\n",
    "[0,0,0,0,0,1,0,0,0,1,0,0,0,0,0],\n",
    "[0,0,0,0,0,1,0,0,1,0,0,0,0,0,0],\n",
    "[0,0,0,0,0,1,0,0,0,0,0,1,0,0,0],\n",
    "[0,0,0,0,0,0,0,0,0,0,1,0,1,0,0],\n",
    "[0,0,0,0,0,1,0,0,0,0,0,1,0,0,0],\n",
    "[0,0,0,0,0,1,0,0,0,0,0,0,0,0,1],\n",
    "[0,0,0,0,0,0,0,0,0,0,0,0,0,1,0],\n",
    "])\n"
   ],
   "metadata": {
    "collapsed": false,
    "pycharm": {
     "name": "#%%\n"
    }
   }
  },
  {
   "cell_type": "markdown",
   "source": [
    "## Question 2\n",
    "For Figure 1, list the three-step sequences between C and F, and confirm that there are indeed 5 of them."
   ],
   "metadata": {
    "collapsed": false,
    "pycharm": {
     "name": "#%% md\n"
    }
   }
  },
  {
   "cell_type": "code",
   "execution_count": 4,
   "outputs": [
    {
     "name": "stdout",
     "output_type": "stream",
     "text": [
      "\n",
      "    The Three-Step Sequences between C and F are:\n",
      "    C -> B -> E -> F\n",
      "    C -> B -> F -> F\n",
      "    C -> B -> C -> F\n",
      "    C -> F -> E -> F\n",
      "    C -> F -> C -> F\n",
      "    \n",
      "5\n"
     ]
    }
   ],
   "source": [
    "\"\"\"\n",
    "INDEX MAPPING:\n",
    "A = 0\n",
    "B = 1\n",
    "C = 2\n",
    "D = 3\n",
    "E = 4\n",
    "F = 5\n",
    "\"\"\"\n",
    "figureMatrix = AdjacencyMatrix(matrix=[\n",
    "    [0, 1, 0, 0, 0, 0],\n",
    "    [1, 0, 1, 0, 1, 0],\n",
    "    [0, 1, 0, 0, 0, 1],\n",
    "    [0, 0, 0, 0, 0, 0],\n",
    "    [0, 1, 0, 0, 0, 1],\n",
    "    [0, 0, 1, 0, 1, 1],\n",
    "\n",
    "])\n",
    "\n",
    "print(\n",
    "    \"\"\"\n",
    "    The Three-Step Sequences between C and F are:\n",
    "    C -> B -> E -> F\n",
    "    C -> B -> F -> F\n",
    "    C -> B -> C -> F\n",
    "    C -> F -> E -> F\n",
    "    C -> F -> C -> F\n",
    "    \"\"\"\n",
    ")\n",
    "\n",
    "print(figureMatrix.numPaths(2, 5, 3))"
   ],
   "metadata": {
    "collapsed": false,
    "pycharm": {
     "name": "#%%\n"
    }
   }
  },
  {
   "cell_type": "markdown",
   "source": [
    "## Question 3\n",
    "In Figure 1, show that the shortest path between A and F has 3 steps."
   ],
   "metadata": {
    "collapsed": false,
    "pycharm": {
     "name": "#%% md\n"
    }
   }
  },
  {
   "cell_type": "code",
   "execution_count": 8,
   "outputs": [
    {
     "name": "stdout",
     "output_type": "stream",
     "text": [
      "Shortest distance is 3\n",
      "The first matrix with a non zero entry at index 0 and 5 (which map to A and F) is: \n",
      "[[0 3 0 0 0 2]\n",
      " [3 0 5 0 5 2]\n",
      " [0 5 1 0 1 5]\n",
      " [0 0 0 0 0 0]\n",
      " [0 5 1 0 1 5]\n",
      " [2 2 5 0 5 5]]\n"
     ]
    }
   ],
   "source": [
    "print(f\"Shortest distance is {figureMatrix.shortestDistance(0, 5)}\")\n",
    "print(f\"The first matrix with a non zero entry at index 0 and 5 (which map to A and F) is: \\n{figureMatrix.getStepMatrix(3)}\")"
   ],
   "metadata": {
    "collapsed": false,
    "pycharm": {
     "name": "#%%\n"
    }
   }
  },
  {
   "cell_type": "code",
   "execution_count": null,
   "outputs": [],
   "source": [],
   "metadata": {
    "collapsed": false,
    "pycharm": {
     "name": "#%%\n"
    }
   }
  }
 ],
 "metadata": {
  "kernelspec": {
   "display_name": "Python 3",
   "language": "python",
   "name": "python3"
  },
  "language_info": {
   "codemirror_mode": {
    "name": "ipython",
    "version": 2
   },
   "file_extension": ".py",
   "mimetype": "text/x-python",
   "name": "python",
   "nbconvert_exporter": "python",
   "pygments_lexer": "ipython2",
   "version": "2.7.6"
  }
 },
 "nbformat": 4,
 "nbformat_minor": 0
}