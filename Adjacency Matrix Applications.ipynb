{
 "cells": [
  {
   "cell_type": "markdown",
   "metadata": {
    "collapsed": true,
    "pycharm": {
     "name": "#%% md\n"
    }
   },
   "source": []
  },
  {
   "cell_type": "code",
   "execution_count": 1,
   "outputs": [],
   "source": [
    "from AdjacencyMatrix import AdjacencyMatrix"
   ],
   "metadata": {
    "collapsed": false,
    "pycharm": {
     "name": "#%%\n"
    }
   }
  },
  {
   "cell_type": "markdown",
   "source": [
    "## Question 1\n",
    "The route map for the northern routes of the now defunct Big Sky Airlines for 2008 is given in Figure 3 below. Produce an adjacency matrix for this map.\n",
    "\n",
    "<img alt=\"2008 Flight Route Map\" src=\"Assets/2008 Flight Route Map.png\"/>"
   ],
   "metadata": {
    "collapsed": false
   }
  },
  {
   "cell_type": "code",
   "execution_count": null,
   "outputs": [],
   "source": [
    "flightMatrix = AdjacencyMatrix(matrix=[\n",
    "[0,1,0,0,0,0,0,0,0,0,0,0,0,0,0],\n",
    "[1,0,1,0,1,0,0,0,0,0,0,0,0,0,0],\n",
    "[0,1,0,1,0,0,0,0,0,0,0,0,0,0,0],\n",
    "[0,0,1,0,0,0,0,0,0,0,0,0,0,0,0],\n",
    "[0,1,0,0,0,1,0,0,0,0,0,0,0,0,0],\n",
    "[0,0,0,0,1,0,1,0,1,1,1,0,1,1,0],\n",
    "[0,0,0,0,0,1,0,1,0,0,0,0,0,0,0],\n",
    "[0,0,0,0,0,0,1,0,0,0,0,0,0,0,0],\n",
    "[0,0,0,0,0,1,0,0,0,1,0,0,0,0,0],\n",
    "[0,0,0,0,0,1,0,0,1,0,0,0,0,0,0],\n",
    "[0,0,0,0,0,1,0,0,0,0,0,1,0,0,0],\n",
    "[0,0,0,0,0,0,0,0,0,0,1,0,1,0,0],\n",
    "[0,0,0,0,0,1,0,0,0,0,0,1,0,0,0],\n",
    "[0,0,0,0,0,1,0,0,0,0,0,0,0,0,1],\n",
    "[0,0,0,0,0,0,0,0,0,0,0,0,0,1,0],\n",
    "])\n"
   ],
   "metadata": {
    "collapsed": false,
    "pycharm": {
     "name": "#%%\n"
    }
   }
  },
  {
   "cell_type": "code",
   "execution_count": null,
   "outputs": [],
   "source": [],
   "metadata": {
    "collapsed": false,
    "pycharm": {
     "name": "#%%\n"
    }
   }
  }
 ],
 "metadata": {
  "kernelspec": {
   "display_name": "Python 3",
   "language": "python",
   "name": "python3"
  },
  "language_info": {
   "codemirror_mode": {
    "name": "ipython",
    "version": 2
   },
   "file_extension": ".py",
   "mimetype": "text/x-python",
   "name": "python",
   "nbconvert_exporter": "python",
   "pygments_lexer": "ipython2",
   "version": "2.7.6"
  }
 },
 "nbformat": 4,
 "nbformat_minor": 0
}